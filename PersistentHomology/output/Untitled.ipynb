{
 "cells": [
  {
   "cell_type": "code",
   "execution_count": 34,
   "metadata": {
    "collapsed": false
   },
   "outputs": [],
   "source": [
    "import numpy as np\n",
    "from collections import Counter"
   ]
  },
  {
   "cell_type": "code",
   "execution_count": 49,
   "metadata": {
    "collapsed": true
   },
   "outputs": [],
   "source": [
    "f1 = open(\"filtration_ds20_s50.txt\",\"rb\")\n",
    "ds50 = f1.readlines()\n",
    "f1.close()\n",
    "f2 = open(\"filtration_ds20_s2.txt\",\"rb\")\n",
    "ds2 = f2.readlines()\n",
    "f2.close()"
   ]
  },
  {
   "cell_type": "code",
   "execution_count": 65,
   "metadata": {
    "collapsed": false
   },
   "outputs": [
    {
     "name": "stdout",
     "output_type": "stream",
     "text": [
      "164\n",
      "164\n"
     ]
    }
   ],
   "source": [
    "tris50 = []\n",
    "b50=[]\n",
    "for i in ds50:\n",
    "    line= i.split()\n",
    "    birth = int(line[0].strip(',]\\n'))\n",
    "    \n",
    "    triangle = [int(item.strip('\\n').strip('[],')) for item in line[1:]]\n",
    "    tr=set()\n",
    "    for k in triangle:\n",
    "        tr.add(k)\n",
    "        \n",
    "    if tr not in tris50:\n",
    "        tris50.append(tr)\n",
    "        b50.append(birth)\n",
    "tris2 = []\n",
    "b2=[]\n",
    "for i in ds2:\n",
    "    line= i.split()\n",
    "    birth = int(line[0].strip(',]\\n'))\n",
    "    \n",
    "    triangle = [int(item.strip('\\n').strip('[],')) for item in line[1:]]\n",
    "    tr=set()\n",
    "    for k in triangle:\n",
    "        tr.add(k)\n",
    "        \n",
    "    if tr not in tris2:\n",
    "        tris2.append(tr)\n",
    "        b2.append(birth)\n",
    "print len(tris2)\n",
    "print len(tris50)"
   ]
  },
  {
   "cell_type": "code",
   "execution_count": 66,
   "metadata": {
    "collapsed": false
   },
   "outputs": [
    {
     "name": "stdout",
     "output_type": "stream",
     "text": [
      "1195\n",
      "1195\n"
     ]
    }
   ],
   "source": [
    "f1 = open(\"filtration_ds10_s50.txt\",\"rb\")\n",
    "ds50 = f1.readlines()\n",
    "f1.close()\n",
    "f2 = open(\"filtration_ds10_s2.txt\",\"rb\")\n",
    "ds2 = f2.readlines()\n",
    "f2.close()\n",
    "\n",
    "tris50 = []\n",
    "b50=[]\n",
    "for i in ds50:\n",
    "    line= i.split()\n",
    "    birth = int(line[0].strip(',]\\n'))\n",
    "    \n",
    "    triangle = [int(item.strip('\\n').strip('[],')) for item in line[1:]]\n",
    "    tr=set()\n",
    "    for k in triangle:\n",
    "        tr.add(k)\n",
    "        \n",
    "    if tr not in tris50:\n",
    "        tris50.append(tr)\n",
    "        b50.append(birth)\n",
    "tris2 = []\n",
    "b2=[]\n",
    "for i in ds2:\n",
    "    line= i.split()\n",
    "    birth = int(line[0].strip(',]\\n'))\n",
    "    \n",
    "    triangle = [int(item.strip('\\n').strip('[],')) for item in line[1:]]\n",
    "    tr=set()\n",
    "    for k in triangle:\n",
    "        tr.add(k)\n",
    "        \n",
    "    if tr not in tris2:\n",
    "        tris2.append(tr)\n",
    "        b2.append(birth)\n",
    "print len(tris2)\n",
    "print len(tris50)"
   ]
  },
  {
   "cell_type": "code",
   "execution_count": 15,
   "metadata": {
    "collapsed": false
   },
   "outputs": [],
   "source": [
    "f1 = open(\"filtration_ds50_s50.txt\",\"rb\")\n",
    "ds50 = f1.readlines()\n",
    "f1.close()\n",
    "f2 = open(\"filtration_ds50_s2.txt\",\"rb\")\n",
    "ds2 = f2.readlines()\n",
    "f2.close()\n",
    "\n",
    "tris50 = [item.split(' [')[1] for item in ds50]\n",
    "b50 = [item.split(' [')[0] for item in ds50]\n",
    "b2 = [item.split(' [')[0] for item in ds2]\n",
    "tris2 = [item.split(' [')[1] for item in ds2]\n",
    "count = 0\n",
    "\n",
    "count = 0\n",
    "for i in tris2:\n",
    "    if i not in tris50:\n",
    "        print b2[count],i"
   ]
  },
  {
   "cell_type": "code",
   "execution_count": null,
   "metadata": {
    "collapsed": true
   },
   "outputs": [],
   "source": []
  }
 ],
 "metadata": {
  "kernelspec": {
   "display_name": "Python 2",
   "language": "python",
   "name": "python2"
  },
  "language_info": {
   "codemirror_mode": {
    "name": "ipython",
    "version": 2
   },
   "file_extension": ".py",
   "mimetype": "text/x-python",
   "name": "python",
   "nbconvert_exporter": "python",
   "pygments_lexer": "ipython2",
   "version": "2.7.13"
  }
 },
 "nbformat": 4,
 "nbformat_minor": 0
}
